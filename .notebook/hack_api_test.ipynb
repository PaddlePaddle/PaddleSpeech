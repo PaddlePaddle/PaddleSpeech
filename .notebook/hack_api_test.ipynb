{
 "cells": [
  {
   "cell_type": "code",
   "execution_count": 1,
   "id": "breeding-haven",
   "metadata": {},
   "outputs": [
    {
     "name": "stdout",
     "output_type": "stream",
     "text": [
      "/home/ssd5/zhanghui/DeepSpeech2.x\n"
     ]
    },
    {
     "data": {
      "text/plain": [
       "'/home/ssd5/zhanghui/DeepSpeech2.x'"
      ]
     },
     "execution_count": 1,
     "metadata": {},
     "output_type": "execute_result"
    }
   ],
   "source": [
    "%cd ..\n",
    "%pwd"
   ]
  },
  {
   "cell_type": "code",
   "execution_count": 2,
   "id": "appropriate-theta",
   "metadata": {},
   "outputs": [
    {
     "name": "stdout",
     "output_type": "stream",
     "text": [
      "LICENSE       deepspeech  examples\t\t    requirements.txt  tools\r\n",
      "README.md     docs\t  libsndfile-1.0.28\t    setup.sh\t      utils\r\n",
      "README_cn.md  env.sh\t  libsndfile-1.0.28.tar.gz  tests\r\n"
     ]
    }
   ],
   "source": [
    "!ls"
   ]
  },
  {
   "cell_type": "code",
   "execution_count": 3,
   "id": "entire-bloom",
   "metadata": {},
   "outputs": [
    {
     "name": "stderr",
     "output_type": "stream",
     "text": [
      "/home/ssd5/zhanghui/DeepSpeech2.x/tools/venv/lib/python3.7/site-packages/paddle/fluid/layers/utils.py:26: DeprecationWarning: `np.int` is a deprecated alias for the builtin `int`. To silence this warning, use `int` by itself. Doing this will not modify any behavior and is safe. When replacing `np.int`, you may wish to use e.g. `np.int64` or `np.int32` to specify the precision. If you wish to review your current use, check the release note link for additional information.\n",
      "Deprecated in NumPy 1.20; for more details and guidance: https://numpy.org/devdocs/release/1.20.0-notes.html#deprecations\n",
      "  def convert_to_list(value, n, name, dtype=np.int):\n",
      "WARNING:root:override cat of paddle.Tensor if exists or register, remove this when fixed!\n",
      "WARNING:root:register user masked_fill to paddle.Tensor, remove this when fixed!\n",
      "WARNING:root:register user masked_fill_ to paddle.Tensor, remove this when fixed!\n",
      "WARNING:root:register user repeat to paddle.Tensor, remove this when fixed!\n",
      "WARNING:root:register user glu to paddle.nn.functional, remove this when fixed!\n",
      "WARNING:root:register user GLU to paddle.nn, remove this when fixed!\n",
      "WARNING:root:register user ConstantPad2d to paddle.nn, remove this when fixed!\n",
      "WARNING:root:override ctc_loss of paddle.nn.functional if exists, remove this when fixed!\n"
     ]
    }
   ],
   "source": [
    "from deepspeech.modules import loss"
   ]
  },
  {
   "cell_type": "code",
   "execution_count": 4,
   "id": "governmental-aircraft",
   "metadata": {},
   "outputs": [
    {
     "name": "stderr",
     "output_type": "stream",
     "text": [
      "/home/ssd5/zhanghui/DeepSpeech2.x/tools/venv/lib/python3.7/site-packages/ipykernel/ipkernel.py:283: DeprecationWarning: `should_run_async` will not call `transform_cell` automatically in the future. Please pass the result to `transformed_cell` argument and any exception that happen during thetransform in `preprocessing_exc_tuple` in IPython 7.17 and above.\n",
      "  and should_run_async(code)\n"
     ]
    }
   ],
   "source": [
    "import paddle"
   ]
  },
  {
   "cell_type": "code",
   "execution_count": 5,
   "id": "proprietary-disaster",
   "metadata": {},
   "outputs": [
    {
     "data": {
      "text/plain": [
       "<function deepspeech.modules.repeat(xs: paddle.VarBase, *size: Any) -> paddle.VarBase>"
      ]
     },
     "execution_count": 5,
     "metadata": {},
     "output_type": "execute_result"
    }
   ],
   "source": [
    "paddle.Tensor.repeat"
   ]
  },
  {
   "cell_type": "code",
   "execution_count": 6,
   "id": "first-diagram",
   "metadata": {},
   "outputs": [
    {
     "data": {
      "text/plain": [
       "<property at 0x7fb515eeeb88>"
      ]
     },
     "execution_count": 6,
     "metadata": {},
     "output_type": "execute_result"
    }
   ],
   "source": [
    "paddle.Tensor.size"
   ]
  },
  {
   "cell_type": "code",
   "execution_count": 7,
   "id": "intelligent-david",
   "metadata": {},
   "outputs": [
    {
     "data": {
      "text/plain": [
       "<function paddle.tensor.manipulation.concat(x, axis=0, name=None)>"
      ]
     },
     "execution_count": 7,
     "metadata": {},
     "output_type": "execute_result"
    }
   ],
   "source": [
    "paddle.Tensor.cat"
   ]
  },
  {
   "cell_type": "code",
   "execution_count": 12,
   "id": "bronze-tenant",
   "metadata": {},
   "outputs": [],
   "source": [
    "a = paddle.to_tensor([12,32, 10, 12, 123,32 ,4])"
   ]
  },
  {
   "cell_type": "code",
   "execution_count": 13,
   "id": "balanced-bearing",
   "metadata": {},
   "outputs": [
    {
     "data": {
      "text/plain": [
       "7"
      ]
     },
     "execution_count": 13,
     "metadata": {},
     "output_type": "execute_result"
    }
   ],
   "source": [
    "a.size"
   ]
  },
  {
   "cell_type": "code",
   "execution_count": 20,
   "id": "extreme-republic",
   "metadata": {},
   "outputs": [],
   "source": [
    "def size(xs: paddle.Tensor, *args: int) -> paddle.Tensor:\n",
    "    nargs = len(args)\n",
    "    assert (nargs <= 1)\n",
    "    s = paddle.shape(xs)\n",
    "    if nargs == 1:\n",
    "        return s[args[0]]\n",
    "    else:\n",
    "        return s\n",
    "\n",
    "# logger.warn(\n",
    "#     \"override size of paddle.Tensor if exists or register, remove this when fixed!\"\n",
    "# )\n",
    "paddle.Tensor.size = size"
   ]
  },
  {
   "cell_type": "code",
   "execution_count": 21,
   "id": "gross-addiction",
   "metadata": {},
   "outputs": [
    {
     "data": {
      "text/plain": [
       "Tensor(shape=[1], dtype=int32, place=CPUPlace, stop_gradient=True,\n",
       "       [7])"
      ]
     },
     "execution_count": 21,
     "metadata": {},
     "output_type": "execute_result"
    }
   ],
   "source": [
    "a.size(0)\n",
    "a.size()"
   ]
  },
  {
   "cell_type": "code",
   "execution_count": 22,
   "id": "adverse-dining",
   "metadata": {},
   "outputs": [
    {
     "data": {
      "text/plain": [
       "Tensor(shape=[1], dtype=int32, place=CPUPlace, stop_gradient=True,\n",
       "       [7])"
      ]
     },
     "execution_count": 22,
     "metadata": {},
     "output_type": "execute_result"
    }
   ],
   "source": [
    "a.size()"
   ]
  },
  {
   "cell_type": "code",
   "execution_count": null,
   "id": "popular-potato",
   "metadata": {},
   "outputs": [],
   "source": []
  }
 ],
 "metadata": {
  "kernelspec": {
   "display_name": "Python 3",
   "language": "python",
   "name": "python3"
  },
  "language_info": {
   "codemirror_mode": {
    "name": "ipython",
    "version": 3
   },
   "file_extension": ".py",
   "mimetype": "text/x-python",
   "name": "python",
   "nbconvert_exporter": "python",
   "pygments_lexer": "ipython3",
   "version": "3.7.0"
  }
 },
 "nbformat": 4,
 "nbformat_minor": 5
}
